{
 "cells": [
  {
   "cell_type": "code",
   "execution_count": null,
   "metadata": {},
   "outputs": [],
   "source": [
    "import cv2\n",
    "import time \n",
    "import sys\n",
    "sys.path.append(\"..\")\n",
    "\n",
    "from matplotlib import pyplot as plt\n",
    "\n",
    "from config.config import TASK_CONFIG, ROBOT_PORTS"
   ]
  },
  {
   "cell_type": "code",
   "execution_count": null,
   "metadata": {},
   "outputs": [],
   "source": [
    "def capture_and_save_image(port):\n",
    "    # Initialize the camera (0 is the default camera)\n",
    "    cam = cv2.VideoCapture(port)\n",
    "    cam.set(cv2.CAP_PROP_FPS, 30)\n",
    "    cam.set(cv2.CAP_PROP_FRAME_WIDTH, 640)\n",
    "    cam.set(cv2.CAP_PROP_FRAME_HEIGHT, 480)\n",
    "    # cam.set(cv2.CAP_PROP_AUTOFOCUS, 1)\n",
    "    # cam.set(cv2.CAP_PROP_FOCUS, 3)\n",
    "\n",
    "    # Check if the camera opened successfully\n",
    "    if not cam.isOpened():\n",
    "        raise IOError(\"Cannot open camera\")\n",
    "\n",
    "    for i in range(1):\n",
    "        t0 = time.time()\n",
    "        # Capture a single frame\n",
    "        _, frame = cam.read()\n",
    "        \n",
    "\n",
    "        # Generate a unique filename with the current date and time\n",
    "        image = cv2.cvtColor(frame, cv2.COLOR_BGR2RGB)\n",
    "        #image = cv2.resize(image, (640, 480), interpolation=cv2.INTER_AREA)\n",
    "        # Define your crop coordinates (top left corner and bottom right corner)\n",
    "        # x1, y1 = 400, 000  # Example starting coordinates (top left of the crop rectangle)\n",
    "        # x2, y2 = 1600, 900  # Example ending coordinates (bottom right of the crop rectangle)\n",
    "\n",
    "        # Crxp the image\n",
    "        # image = image[y1:y2, x1:x2]\n",
    "\n",
    "        image = cv2.resize(image, (640, 480), interpolation=cv2.INTER_AREA)\n",
    "        print(\"Time taken to capture image: {:.4f} seconds\".format(time.time() - t0))\n",
    "\n",
    "        print(image.shape)\n",
    "        # Save the captured image to the current directory\n",
    "        plt.imshow(image)\n",
    "        time.sleep(0.04)\n",
    "\n",
    "\n",
    "    # Release the camera\n",
    "    cam.release()"
   ]
  },
  {
   "cell_type": "code",
   "execution_count": null,
   "metadata": {},
   "outputs": [],
   "source": [
    "def find_camera_indices(raise_when_empty=False, max_index_search_range=60):\n",
    "    camera_ids = []\n",
    "    for camera_idx in range(max_index_search_range):\n",
    "        camera = cv2.VideoCapture(camera_idx)\n",
    "        is_open = camera.isOpened()\n",
    "        camera.release()\n",
    "\n",
    "        if is_open:\n",
    "            print(f\"Camera found at index {camera_idx}\")\n",
    "            camera_ids.append(camera_idx)\n",
    "\n",
    "    if raise_when_empty and len(camera_ids) == 0:\n",
    "        raise OSError(\n",
    "            \"Not a single camera was detected. Try re-plugging, or re-installing `opencv2`, or your camera driver, or make sure your camera is compatible with opencv2.\"\n",
    "        )\n",
    "\n",
    "    return camera_ids"
   ]
  },
  {
   "cell_type": "code",
   "execution_count": null,
   "metadata": {},
   "outputs": [],
   "source": [
    "find_camera_indices()"
   ]
  },
  {
   "cell_type": "code",
   "execution_count": null,
   "metadata": {},
   "outputs": [],
   "source": [
    "capture_and_save_image(0)"
   ]
  },
  {
   "cell_type": "markdown",
   "metadata": {},
   "source": []
  },
  {
   "cell_type": "code",
   "execution_count": null,
   "metadata": {},
   "outputs": [],
   "source": [
    "capture_and_save_image(\"http://192.168.87.208:4747/video\")"
   ]
  },
  {
   "cell_type": "code",
   "execution_count": null,
   "metadata": {},
   "outputs": [],
   "source": [
    "capture_and_save_image(2)"
   ]
  },
  {
   "cell_type": "code",
   "execution_count": null,
   "metadata": {},
   "outputs": [],
   "source": [
    "cam = cv2.VideoCapture(TASK_CONFIG['camera_port'])\n"
   ]
  },
  {
   "cell_type": "code",
   "execution_count": null,
   "metadata": {},
   "outputs": [],
   "source": [
    "# init follower\n",
    "from robot import Robot\n",
    "\n",
    "\n",
    "follower = Robot(device_name=ROBOT_PORTS['follower'], servo_ids=[1,2,3,4,5,6])\n",
    "# init leader\n",
    "leader = Robot(device_name=ROBOT_PORTS['leader'], servo_ids=[1,2,3,4,5,6])\n",
    "# get bias\n",
    "# get_bias();exit()"
   ]
  },
  {
   "cell_type": "code",
   "execution_count": null,
   "metadata": {},
   "outputs": [],
   "source": [
    "leader._disable_torque()\n",
    "follower._disable_torque()"
   ]
  },
  {
   "cell_type": "code",
   "execution_count": null,
   "metadata": {},
   "outputs": [],
   "source": []
  }
 ],
 "metadata": {
  "kernelspec": {
   "display_name": "base",
   "language": "python",
   "name": "python3"
  },
  "language_info": {
   "codemirror_mode": {
    "name": "ipython",
    "version": 3
   },
   "file_extension": ".py",
   "mimetype": "text/x-python",
   "name": "python",
   "nbconvert_exporter": "python",
   "pygments_lexer": "ipython3",
   "version": "3.10.14"
  }
 },
 "nbformat": 4,
 "nbformat_minor": 2
}
